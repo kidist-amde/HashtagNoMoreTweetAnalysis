{
 "cells": [
  {
   "cell_type": "code",
   "execution_count": 1,
   "metadata": {},
   "outputs": [],
   "source": [
    "from geopy.geocoders import Nominatim\n",
    "geolocator = Nominatim(user_agent=\"example app\") "
   ]
  },
  {
   "cell_type": "code",
   "execution_count": 4,
   "metadata": {},
   "outputs": [],
   "source": [
    "import pandas as pd"
   ]
  },
  {
   "cell_type": "code",
   "execution_count": 2,
   "metadata": {},
   "outputs": [
    {
     "data": {
      "text/plain": [
       "9.0107934"
      ]
     },
     "execution_count": 2,
     "metadata": {},
     "output_type": "execute_result"
    }
   ],
   "source": [
    "\n",
    "geolocator.geocode(\"Addis Ababa\").latitude "
   ]
  },
  {
   "cell_type": "code",
   "execution_count": 5,
   "metadata": {},
   "outputs": [
    {
     "name": "stderr",
     "output_type": "stream",
     "text": [
      "/home/kidist/anaconda3/envs/geoviz-HB/lib/python3.8/site-packages/IPython/core/interactiveshell.py:3444: DtypeWarning: Columns (0,1,7,8,10,11,17,32,38,76,83) have mixed types.Specify dtype option on import or set low_memory=False.\n",
      "  exec(code_obj, self.user_global_ns, self.user_ns)\n"
     ]
    }
   ],
   "source": [
    "# set the path of your dataset\n",
    "df = pd.read_csv(\"path/combined_csv.csv\")"
   ]
  },
  {
   "cell_type": "code",
   "execution_count": 10,
   "metadata": {},
   "outputs": [
    {
     "data": {
      "text/html": [
       "<div>\n",
       "<style scoped>\n",
       "    .dataframe tbody tr th:only-of-type {\n",
       "        vertical-align: middle;\n",
       "    }\n",
       "\n",
       "    .dataframe tbody tr th {\n",
       "        vertical-align: top;\n",
       "    }\n",
       "\n",
       "    .dataframe thead th {\n",
       "        text-align: right;\n",
       "    }\n",
       "</style>\n",
       "<table border=\"1\" class=\"dataframe\">\n",
       "  <thead>\n",
       "    <tr style=\"text-align: right;\">\n",
       "      <th></th>\n",
       "      <th>user_id</th>\n",
       "      <th>status_id</th>\n",
       "      <th>created_at</th>\n",
       "      <th>screen_name</th>\n",
       "      <th>text</th>\n",
       "      <th>source</th>\n",
       "      <th>display_text_width</th>\n",
       "      <th>reply_to_status_id</th>\n",
       "      <th>reply_to_user_id</th>\n",
       "      <th>reply_to_screen_name</th>\n",
       "      <th>...</th>\n",
       "      <th>statuses_count</th>\n",
       "      <th>favourites_count</th>\n",
       "      <th>account_created_at</th>\n",
       "      <th>verified</th>\n",
       "      <th>profile_url</th>\n",
       "      <th>profile_expanded_url</th>\n",
       "      <th>account_lang</th>\n",
       "      <th>profile_banner_url</th>\n",
       "      <th>profile_background_url</th>\n",
       "      <th>profile_image_url</th>\n",
       "    </tr>\n",
       "  </thead>\n",
       "  <tbody>\n",
       "    <tr>\n",
       "      <th>0</th>\n",
       "      <td>xx1461794351936331794</td>\n",
       "      <td>xx1462532186419122181</td>\n",
       "      <td>2021-11-21 21:23:40+00:00</td>\n",
       "      <td>Rockethiopian</td>\n",
       "      <td>@TheAfricaReport Ohhh so your saying it will b...</td>\n",
       "      <td>Twitter Web App</td>\n",
       "      <td>186.0</td>\n",
       "      <td>xx1461667657950900225</td>\n",
       "      <td>xx18017198</td>\n",
       "      <td>TheAfricaReport</td>\n",
       "      <td>...</td>\n",
       "      <td>36.0</td>\n",
       "      <td>22.0</td>\n",
       "      <td>2021-11-19T20:32:05Z</td>\n",
       "      <td>False</td>\n",
       "      <td>NaN</td>\n",
       "      <td>NaN</td>\n",
       "      <td>NaN</td>\n",
       "      <td>NaN</td>\n",
       "      <td>NaN</td>\n",
       "      <td>http://abs.twimg.com/sticky/default_profile_im...</td>\n",
       "    </tr>\n",
       "    <tr>\n",
       "      <th>1</th>\n",
       "      <td>xx1461794351936331794</td>\n",
       "      <td>xx1462505412364750854</td>\n",
       "      <td>2021-11-21 19:37:17+00:00</td>\n",
       "      <td>Rockethiopian</td>\n",
       "      <td>@CNNAfrica Congrats to @CNNAfrica you’ve gone ...</td>\n",
       "      <td>Twitter Web App</td>\n",
       "      <td>87.0</td>\n",
       "      <td>xx1462435365659234304</td>\n",
       "      <td>xx56891751</td>\n",
       "      <td>CNNAfrica</td>\n",
       "      <td>...</td>\n",
       "      <td>36.0</td>\n",
       "      <td>22.0</td>\n",
       "      <td>2021-11-19T20:32:05Z</td>\n",
       "      <td>False</td>\n",
       "      <td>NaN</td>\n",
       "      <td>NaN</td>\n",
       "      <td>NaN</td>\n",
       "      <td>NaN</td>\n",
       "      <td>NaN</td>\n",
       "      <td>http://abs.twimg.com/sticky/default_profile_im...</td>\n",
       "    </tr>\n",
       "    <tr>\n",
       "      <th>2</th>\n",
       "      <td>xx1461794351936331794</td>\n",
       "      <td>xx1462507274937815043</td>\n",
       "      <td>2021-11-21 19:44:41+00:00</td>\n",
       "      <td>Rockethiopian</td>\n",
       "      <td>@SecretaryPete You seems a good guy I was wond...</td>\n",
       "      <td>Twitter Web App</td>\n",
       "      <td>252.0</td>\n",
       "      <td>xx1462493985193275395</td>\n",
       "      <td>xx1356958547603513344</td>\n",
       "      <td>SecretaryPete</td>\n",
       "      <td>...</td>\n",
       "      <td>36.0</td>\n",
       "      <td>22.0</td>\n",
       "      <td>2021-11-19T20:32:05Z</td>\n",
       "      <td>False</td>\n",
       "      <td>NaN</td>\n",
       "      <td>NaN</td>\n",
       "      <td>NaN</td>\n",
       "      <td>NaN</td>\n",
       "      <td>NaN</td>\n",
       "      <td>http://abs.twimg.com/sticky/default_profile_im...</td>\n",
       "    </tr>\n",
       "    <tr>\n",
       "      <th>3</th>\n",
       "      <td>xx1461794351936331794</td>\n",
       "      <td>xx1462527270690635776</td>\n",
       "      <td>2021-11-21 21:04:08+00:00</td>\n",
       "      <td>Rockethiopian</td>\n",
       "      <td>@TheAfricaReport @JulianPecquet Because u made...</td>\n",
       "      <td>Twitter Web App</td>\n",
       "      <td>60.0</td>\n",
       "      <td>xx1461435794112102402</td>\n",
       "      <td>xx18017198</td>\n",
       "      <td>TheAfricaReport</td>\n",
       "      <td>...</td>\n",
       "      <td>36.0</td>\n",
       "      <td>22.0</td>\n",
       "      <td>2021-11-19T20:32:05Z</td>\n",
       "      <td>False</td>\n",
       "      <td>NaN</td>\n",
       "      <td>NaN</td>\n",
       "      <td>NaN</td>\n",
       "      <td>NaN</td>\n",
       "      <td>NaN</td>\n",
       "      <td>http://abs.twimg.com/sticky/default_profile_im...</td>\n",
       "    </tr>\n",
       "    <tr>\n",
       "      <th>4</th>\n",
       "      <td>xx1461794351936331794</td>\n",
       "      <td>xx1462526621404086279</td>\n",
       "      <td>2021-11-21 21:01:33+00:00</td>\n",
       "      <td>Rockethiopian</td>\n",
       "      <td>@TheAfricaReport @MatthewTPage All my Nigerian...</td>\n",
       "      <td>Twitter Web App</td>\n",
       "      <td>110.0</td>\n",
       "      <td>xx1461708033483022339</td>\n",
       "      <td>xx18017198</td>\n",
       "      <td>TheAfricaReport</td>\n",
       "      <td>...</td>\n",
       "      <td>36.0</td>\n",
       "      <td>22.0</td>\n",
       "      <td>2021-11-19T20:32:05Z</td>\n",
       "      <td>False</td>\n",
       "      <td>NaN</td>\n",
       "      <td>NaN</td>\n",
       "      <td>NaN</td>\n",
       "      <td>NaN</td>\n",
       "      <td>NaN</td>\n",
       "      <td>http://abs.twimg.com/sticky/default_profile_im...</td>\n",
       "    </tr>\n",
       "  </tbody>\n",
       "</table>\n",
       "<p>5 rows × 90 columns</p>\n",
       "</div>"
      ],
      "text/plain": [
       "                 user_id              status_id                 created_at  \\\n",
       "0  xx1461794351936331794  xx1462532186419122181  2021-11-21 21:23:40+00:00   \n",
       "1  xx1461794351936331794  xx1462505412364750854  2021-11-21 19:37:17+00:00   \n",
       "2  xx1461794351936331794  xx1462507274937815043  2021-11-21 19:44:41+00:00   \n",
       "3  xx1461794351936331794  xx1462527270690635776  2021-11-21 21:04:08+00:00   \n",
       "4  xx1461794351936331794  xx1462526621404086279  2021-11-21 21:01:33+00:00   \n",
       "\n",
       "     screen_name                                               text  \\\n",
       "0  Rockethiopian  @TheAfricaReport Ohhh so your saying it will b...   \n",
       "1  Rockethiopian  @CNNAfrica Congrats to @CNNAfrica you’ve gone ...   \n",
       "2  Rockethiopian  @SecretaryPete You seems a good guy I was wond...   \n",
       "3  Rockethiopian  @TheAfricaReport @JulianPecquet Because u made...   \n",
       "4  Rockethiopian  @TheAfricaReport @MatthewTPage All my Nigerian...   \n",
       "\n",
       "            source  display_text_width     reply_to_status_id  \\\n",
       "0  Twitter Web App               186.0  xx1461667657950900225   \n",
       "1  Twitter Web App                87.0  xx1462435365659234304   \n",
       "2  Twitter Web App               252.0  xx1462493985193275395   \n",
       "3  Twitter Web App                60.0  xx1461435794112102402   \n",
       "4  Twitter Web App               110.0  xx1461708033483022339   \n",
       "\n",
       "        reply_to_user_id reply_to_screen_name  ... statuses_count  \\\n",
       "0             xx18017198      TheAfricaReport  ...           36.0   \n",
       "1             xx56891751            CNNAfrica  ...           36.0   \n",
       "2  xx1356958547603513344        SecretaryPete  ...           36.0   \n",
       "3             xx18017198      TheAfricaReport  ...           36.0   \n",
       "4             xx18017198      TheAfricaReport  ...           36.0   \n",
       "\n",
       "  favourites_count    account_created_at  verified  profile_url  \\\n",
       "0             22.0  2021-11-19T20:32:05Z     False          NaN   \n",
       "1             22.0  2021-11-19T20:32:05Z     False          NaN   \n",
       "2             22.0  2021-11-19T20:32:05Z     False          NaN   \n",
       "3             22.0  2021-11-19T20:32:05Z     False          NaN   \n",
       "4             22.0  2021-11-19T20:32:05Z     False          NaN   \n",
       "\n",
       "   profile_expanded_url account_lang profile_banner_url  \\\n",
       "0                   NaN          NaN                NaN   \n",
       "1                   NaN          NaN                NaN   \n",
       "2                   NaN          NaN                NaN   \n",
       "3                   NaN          NaN                NaN   \n",
       "4                   NaN          NaN                NaN   \n",
       "\n",
       "  profile_background_url                                  profile_image_url  \n",
       "0                    NaN  http://abs.twimg.com/sticky/default_profile_im...  \n",
       "1                    NaN  http://abs.twimg.com/sticky/default_profile_im...  \n",
       "2                    NaN  http://abs.twimg.com/sticky/default_profile_im...  \n",
       "3                    NaN  http://abs.twimg.com/sticky/default_profile_im...  \n",
       "4                    NaN  http://abs.twimg.com/sticky/default_profile_im...  \n",
       "\n",
       "[5 rows x 90 columns]"
      ]
     },
     "execution_count": 10,
     "metadata": {},
     "output_type": "execute_result"
    }
   ],
   "source": [
    "df.head()"
   ]
  },
  {
   "cell_type": "code",
   "execution_count": 17,
   "metadata": {},
   "outputs": [],
   "source": [
    "loc = list(df.place_full_name.unique())"
   ]
  },
  {
   "cell_type": "code",
   "execution_count": null,
   "metadata": {},
   "outputs": [],
   "source": [
    "f = open(\"loc.json\",\"w\")\n"
   ]
  },
  {
   "cell_type": "code",
   "execution_count": 19,
   "metadata": {},
   "outputs": [],
   "source": [
    "# loc.remove(float(\"inf\"))"
   ]
  },
  {
   "cell_type": "code",
   "execution_count": 21,
   "metadata": {},
   "outputs": [],
   "source": [
    "del(loc[0])"
   ]
  },
  {
   "cell_type": "code",
   "execution_count": 28,
   "metadata": {},
   "outputs": [
    {
     "data": {
      "text/plain": [
       "200"
      ]
     },
     "execution_count": 28,
     "metadata": {},
     "output_type": "execute_result"
    }
   ],
   "source": [
    "len(loc)"
   ]
  },
  {
   "cell_type": "code",
   "execution_count": 31,
   "metadata": {},
   "outputs": [],
   "source": [
    "location_to_geo = dict()\n"
   ]
  },
  {
   "cell_type": "code",
   "execution_count": 37,
   "metadata": {},
   "outputs": [],
   "source": [
    "\n",
    "for l in loc:\n",
    "    if l in location_to_geo:\n",
    "        continue\n",
    "    geoloc = geolocator.geocode(l)\n",
    "    if geoloc is not None:\n",
    "        location_to_geo[l] = (geoloc.latitude,geoloc.longitude)"
   ]
  },
  {
   "cell_type": "code",
   "execution_count": 38,
   "metadata": {},
   "outputs": [
    {
     "data": {
      "text/plain": [
       "193"
      ]
     },
     "execution_count": 38,
     "metadata": {},
     "output_type": "execute_result"
    }
   ],
   "source": [
    "len(location_to_geo)"
   ]
  },
  {
   "cell_type": "code",
   "execution_count": 39,
   "metadata": {},
   "outputs": [],
   "source": [
    "latitude = df.place_full_name.apply(lambda p: location_to_geo[p][0] if p in location_to_geo else \"\")\n",
    "\n",
    "longitude = df.place_full_name.apply(lambda p: location_to_geo[p][1] if p in location_to_geo else \"\")\n",
    "\n",
    "df[\"latitude\"] = latitude\n",
    "df[\"longitude\"] = longitude\n",
    "\n"
   ]
  },
  {
   "cell_type": "code",
   "execution_count": 42,
   "metadata": {},
   "outputs": [
    {
     "data": {
      "text/plain": [
       "array(['', 39.100105, 44.9497487, 10.2116702, 30.2711286, 51.5423045,\n",
       "       -26.205, 40.7127281, 40.09476245, 41.8755616, 36.1622767,\n",
       "       40.288297299999996, 43.6534817, 25.7741728, 32.7770947, 29.7589382,\n",
       "       51.5073219, 35.2272086, 38.897699700000004, 38.8950368,\n",
       "       -7.2837534999999995, 52.2319581, 51.4570271, 37.7790262,\n",
       "       -29.861825, 38.7251776, 39.7392364, 40.6687141, 27.9477595,\n",
       "       38.700202000000004, 5.5571096, 39.2908816, 35.9556924, 23.0580454,\n",
       "       44.459416250000004, 44.28259095, -26.235278, 49.9740542,\n",
       "       32.9029017, -26.229444, 34.395342, 55.6867243, 0.3177137,\n",
       "       51.0460954, 31.5313113, 47.6038321, 53.535411, 40.0796606,\n",
       "       32.7762719, 34.0181557, 33.4484367, 34.0536909, 11.8145966,\n",
       "       38.9997621, 32.3512601, 36.0156178, 40.9699889, 45.4211435,\n",
       "       -36.852095, 38.249880000000005, 24.638916, 9.0192236, 23.2232877,\n",
       "       45.4997475, 40.7896239, 45.5202471, 32.3293809, 33.7903916,\n",
       "       43.451291, 39.9667308, 20.8894684, 63.4305658, 44.818173,\n",
       "       -1.2832533, 41.8933203, 51.4624325, -31.9527121, 57.7210839,\n",
       "       56.916667, 8.77897765, 37.5296593, 37.3414854, 45.5620162,\n",
       "       24.4538352, 38.8051095, 44.7552534, -28.8166236, 33.5755463,\n",
       "       33.7489924, 51.4745706, 11.9507719, 46.2017559, 48.5771128,\n",
       "       42.3750997, -37.8142176, 8.3676771, 38.768882500000004, 33.0151208,\n",
       "       47.7567679, 18.1850507, 7.833333, -26.096111, -26.4416667,\n",
       "       -0.483142, -1.395968, -15.4164488, -25.7459374, -25.537731,\n",
       "       -26.0682406, 47.079725999999994, -33.9922786, 39.5162234,\n",
       "       59.3251172, -26.0964372, -22.3453519, 35.7882893, 38.887789,\n",
       "       51.9244424, 58.983132049999995, 59.666667, 39.5158825, 36.1150858,\n",
       "       47.469918, 33.6874388, 39.7837304, 23.8175925, 43.703786,\n",
       "       37.673589500000006, 37.2333253, 27.7567667, -4.05052, 47.644611,\n",
       "       13.7578362, 4.203033, 51.4505687, 25.2856329, 26.0628665,\n",
       "       38.9522946, -26.6747222, 13.1500331, 48.0924999, 46.877229,\n",
       "       51.3471927, -33.928992, -1.9646631, 51.4816546, 43.73844905,\n",
       "       43.7753495, 51.51115905, 60.5000209, 39.9622601, 17.360589,\n",
       "       42.3038299, -33.8548157, 51.4989948, 46.8258024, 39.04979325,\n",
       "       33.9562003, 34.056522, 5.0, 52.0191005, 40.6526006, 21.5810088,\n",
       "       59.4293164, 56.8787183, 25.9873137, 40.8466508, 9.0132546,\n",
       "       25.4034759, 47.5033555, 50.0552494, 49.8955367, 33.046233,\n",
       "       9.00892635, 3.51590545, 24.9304741, -27.4689682, 51.0834196,\n",
       "       51.5013012, 51.4096275, 39.01981945, 50.3485112,\n",
       "       39.146987249999995, 26.588958, 38.908919049999994, 33.0151201,\n",
       "       59.3628802, 57.6527825, 48.0669167, 60.2047672, 36.0028345,\n",
       "       46.5802596, 47.662894449999996, 51.541289], dtype=object)"
      ]
     },
     "execution_count": 42,
     "metadata": {},
     "output_type": "execute_result"
    }
   ],
   "source": [
    "(df.latitude).unique()"
   ]
  },
  {
   "cell_type": "code",
   "execution_count": 44,
   "metadata": {},
   "outputs": [
    {
     "data": {
      "text/plain": [
       "               257915\n",
       "10.2116702       1635\n",
       "32.7762719         54\n",
       "34.0536909         42\n",
       "32.3512601         40\n",
       "                ...  \n",
       "46.8258024          1\n",
       "39.04979325         1\n",
       "33.9562003          1\n",
       "5.0                 1\n",
       "51.541289           1\n",
       "Name: latitude, Length: 194, dtype: int64"
      ]
     },
     "execution_count": 44,
     "metadata": {},
     "output_type": "execute_result"
    }
   ],
   "source": [
    "df.latitude.value_counts()"
   ]
  },
  {
   "cell_type": "code",
   "execution_count": 45,
   "metadata": {},
   "outputs": [],
   "source": [
    "# set the path you want to put the datasets\n",
    "df.to_csv(\"path/combined_csv.csv\",index= False)"
   ]
  },
  {
   "cell_type": "code",
   "execution_count": null,
   "metadata": {},
   "outputs": [],
   "source": []
  }
 ],
 "metadata": {
  "kernelspec": {
   "display_name": "Python [conda env:geoviz-HB]",
   "language": "python",
   "name": "conda-env-geoviz-HB-py"
  },
  "language_info": {
   "codemirror_mode": {
    "name": "ipython",
    "version": 3
   },
   "file_extension": ".py",
   "mimetype": "text/x-python",
   "name": "python",
   "nbconvert_exporter": "python",
   "pygments_lexer": "ipython3",
   "version": "3.8.12"
  }
 },
 "nbformat": 4,
 "nbformat_minor": 4
}
